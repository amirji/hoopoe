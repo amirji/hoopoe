{
 "cells": [
  {
   "cell_type": "markdown",
   "id": "dd600bed",
   "metadata": {},
   "source": [
    "### Setup"
   ]
  },
  {
   "cell_type": "code",
   "execution_count": 1,
   "id": "f09bd2e6",
   "metadata": {},
   "outputs": [],
   "source": [
    "import numpy as np\n",
    "import os\n",
    "import pdftotext\n",
    "from PyPDF2 import PdfFileReader\n",
    "import nltk\n",
    "from nltk.tokenize import sent_tokenize, word_tokenize\n",
    "import re\n",
    "import spacy\n",
    "import pandas as pd\n",
    "from py2neo import Graph\n",
    "from py2neo.bulk import create_nodes\n",
    "from neo4j import GraphDatabase\n",
    "from methods import *"
   ]
  },
  {
   "cell_type": "markdown",
   "id": "1ed48285",
   "metadata": {},
   "source": [
    "#### Initialize Graph Database"
   ]
  },
  {
   "cell_type": "code",
   "execution_count": null,
   "id": "2122210a",
   "metadata": {},
   "outputs": [],
   "source": [
    "\n",
    "graph = Graph(\"http://localhost:7474/\", auth=(\"neo4j\", \"berjis89\"))\n",
    "graph.run(\"UNWIND range(1, 3) AS n RETURN n, n * n as n_sq\")"
   ]
  },
  {
   "cell_type": "code",
   "execution_count": 3,
   "id": "99bf619c",
   "metadata": {},
   "outputs": [
    {
     "data": {
      "text/plain": [
       "'/home/amir/Projects/papyrus/hoopoe/Texs/1511_03498'"
      ]
     },
     "execution_count": 3,
     "metadata": {},
     "output_type": "execute_result"
    }
   ],
   "source": [
    "papers = get_data(\"Texs\")\n",
    "papers[0]"
   ]
  },
  {
   "cell_type": "code",
   "execution_count": 7,
   "id": "2ec02afd",
   "metadata": {},
   "outputs": [],
   "source": [
    "a0,b0 = extract_info(folder=papers[0])"
   ]
  },
  {
   "cell_type": "code",
   "execution_count": 8,
   "id": "8016194c",
   "metadata": {},
   "outputs": [],
   "source": [
    "a1,b1 = extract_info(folder=papers[3])"
   ]
  },
  {
   "cell_type": "code",
   "execution_count": null,
   "id": "bbeaa7b1",
   "metadata": {},
   "outputs": [],
   "source": [
    "a0[\"introduction --cts\"]"
   ]
  },
  {
   "cell_type": "code",
   "execution_count": null,
   "id": "4a322be3",
   "metadata": {},
   "outputs": [],
   "source": [
    "a0_f = [a[0] for a in a0['authors']]\n",
    "a1_f = [a[0] for a in a1['authors']]\n"
   ]
  },
  {
   "cell_type": "code",
   "execution_count": 11,
   "id": "7ba0ed6f",
   "metadata": {},
   "outputs": [],
   "source": [
    "a0_f = {key:a0[key] for key in a0.keys() if key!='sections'}\n",
    "a1_f = {key:a1[key] for key in a1.keys() if key!='sections'}\n"
   ]
  },
  {
   "cell_type": "code",
   "execution_count": 27,
   "id": "78025036",
   "metadata": {},
   "outputs": [
    {
     "data": {
      "text/plain": [
       "dict_keys(['author_main', 'authors', 'title', 'abstract', 'introduction --text', 'model set-up --text', 'results --text', 'synthetic dust continuum observations --text', 'concluding remarks --text', 'convergence with grid resolution --text', 'self-gravitating simulations with decoupled dust particles --text', 'introduction --cts', 'model set-up --cts', 'results --cts', 'synthetic dust continuum observations --cts', 'concluding remarks --cts', 'convergence with grid resolution --cts', 'self-gravitating simulations with decoupled dust particles --cts'])"
      ]
     },
     "execution_count": 27,
     "metadata": {},
     "output_type": "execute_result"
    }
   ],
   "source": [
    "a0_f.keys() "
   ]
  },
  {
   "cell_type": "code",
   "execution_count": 29,
   "id": "61907421",
   "metadata": {},
   "outputs": [],
   "source": [
    "data=a0.keys()"
   ]
  },
  {
   "cell_type": "code",
   "execution_count": 38,
   "id": "e05aca6c",
   "metadata": {},
   "outputs": [],
   "source": [
    "df = pd.DataFrame(columns=data)"
   ]
  },
  {
   "cell_type": "code",
   "execution_count": 39,
   "id": "8255cd32",
   "metadata": {},
   "outputs": [
    {
     "data": {
      "text/html": [
       "<div>\n",
       "<style scoped>\n",
       "    .dataframe tbody tr th:only-of-type {\n",
       "        vertical-align: middle;\n",
       "    }\n",
       "\n",
       "    .dataframe tbody tr th {\n",
       "        vertical-align: top;\n",
       "    }\n",
       "\n",
       "    .dataframe thead th {\n",
       "        text-align: right;\n",
       "    }\n",
       "</style>\n",
       "<table border=\"1\" class=\"dataframe\">\n",
       "  <thead>\n",
       "    <tr style=\"text-align: right;\">\n",
       "      <th></th>\n",
       "      <th>author_main</th>\n",
       "      <th>authors</th>\n",
       "      <th>title</th>\n",
       "      <th>abstract</th>\n",
       "      <th>introduction --text</th>\n",
       "      <th>model set-up --text</th>\n",
       "      <th>results --text</th>\n",
       "      <th>synthetic dust continuum observations --text</th>\n",
       "      <th>concluding remarks --text</th>\n",
       "      <th>convergence with grid resolution --text</th>\n",
       "      <th>self-gravitating simulations with decoupled dust particles --text</th>\n",
       "      <th>sections</th>\n",
       "      <th>introduction --cts</th>\n",
       "      <th>model set-up --cts</th>\n",
       "      <th>results --cts</th>\n",
       "      <th>synthetic dust continuum observations --cts</th>\n",
       "      <th>concluding remarks --cts</th>\n",
       "      <th>convergence with grid resolution --cts</th>\n",
       "      <th>self-gravitating simulations with decoupled dust particles --cts</th>\n",
       "    </tr>\n",
       "  </thead>\n",
       "  <tbody>\n",
       "  </tbody>\n",
       "</table>\n",
       "</div>"
      ],
      "text/plain": [
       "Empty DataFrame\n",
       "Columns: [author_main, authors, title, abstract, introduction --text, model set-up --text, results --text, synthetic dust continuum observations --text, concluding remarks --text, convergence with grid resolution --text, self-gravitating simulations with decoupled dust particles --text, sections, introduction --cts, model set-up --cts, results --cts, synthetic dust continuum observations --cts, concluding remarks --cts, convergence with grid resolution --cts, self-gravitating simulations with decoupled dust particles --cts]\n",
       "Index: []"
      ]
     },
     "execution_count": 39,
     "metadata": {},
     "output_type": "execute_result"
    }
   ],
   "source": [
    "df"
   ]
  },
  {
   "cell_type": "code",
   "execution_count": null,
   "id": "6ab1babc",
   "metadata": {},
   "outputs": [],
   "source": [
    "create_nodes(graph, data, labels={\"Paper\"})"
   ]
  },
  {
   "cell_type": "code",
   "execution_count": null,
   "id": "14bba1a0",
   "metadata": {},
   "outputs": [],
   "source": [
    "a_df.head()"
   ]
  },
  {
   "cell_type": "code",
   "execution_count": null,
   "id": "cf55931d",
   "metadata": {},
   "outputs": [],
   "source": [
    "b"
   ]
  },
  {
   "cell_type": "code",
   "execution_count": null,
   "id": "c3ceb4ff",
   "metadata": {},
   "outputs": [],
   "source": [
    "\n",
    "paper = get_data(papers[2])\n",
    "paper\n"
   ]
  },
  {
   "cell_type": "code",
   "execution_count": null,
   "id": "4f0102d8",
   "metadata": {},
   "outputs": [],
   "source": [
    "a[\"Sections\"][\"Introduction\"]"
   ]
  },
  {
   "cell_type": "code",
   "execution_count": null,
   "id": "fe0b8277",
   "metadata": {},
   "outputs": [],
   "source": []
  },
  {
   "cell_type": "code",
   "execution_count": null,
   "id": "1f9dfc50",
   "metadata": {},
   "outputs": [],
   "source": [
    "sent = sent_tokenize(t) \n",
    "print(sent)"
   ]
  },
  {
   "cell_type": "code",
   "execution_count": null,
   "id": "4adc34e7",
   "metadata": {},
   "outputs": [],
   "source": [
    "#sent = nltk.corpus.treebank.tagged_sents()[22]\n",
    "words = word_tokenize(t)\n",
    "words_tagged = nltk.pos_tag(words)\n",
    "\n",
    "#print(nltk.ne_chunk(words_tagged, binary=False))\n",
    "tree = nltk.ne_chunk(words_tagged, binary=False)\n",
    "print(tree)\n"
   ]
  },
  {
   "cell_type": "code",
   "execution_count": null,
   "id": "da89f145",
   "metadata": {},
   "outputs": [],
   "source": [
    "IN = re.compile(r'.*\\bin\\b(?!\\b.+ing)')\n",
    "#for doc in nltk.corpus.ieer.parsed_docs('NYT_19980315'):\n",
    "\n",
    "#VAN = re.compile(words_tagged, re.VERBOSE)\n",
    "for doc in sent_tagged:\n",
    "    for rel in nltk.sem.extract_rels('ORG', 'LOC', doc, corpus='ieer', pattern = IN):\n",
    "        print(nltk.sem.rtuple(rel))"
   ]
  },
  {
   "cell_type": "code",
   "execution_count": null,
   "id": "b723a68a",
   "metadata": {},
   "outputs": [],
   "source": [
    "nltk.download('ieer')"
   ]
  },
  {
   "cell_type": "code",
   "execution_count": null,
   "id": "8d6533c2",
   "metadata": {},
   "outputs": [],
   "source": [
    "nlp = spacy.load(\"en_core_web_sm\")\n",
    "doc = nlp(\"Apple is looking at buying U.K. startup for $1 billion\")\n",
    "for token in doc:\n",
    "    print(token.text, token.pos_, token.dep_)"
   ]
  },
  {
   "cell_type": "markdown",
   "id": "d3943b35",
   "metadata": {},
   "source": [
    "### Pipline:"
   ]
  },
  {
   "cell_type": "code",
   "execution_count": null,
   "id": "5608f9f8",
   "metadata": {},
   "outputs": [],
   "source": [
    "data = get_data(\"pdfs\")"
   ]
  },
  {
   "cell_type": "code",
   "execution_count": null,
   "id": "950a776e",
   "metadata": {},
   "outputs": [],
   "source": [
    "data[0]"
   ]
  },
  {
   "cell_type": "code",
   "execution_count": null,
   "id": "ff07fbe3",
   "metadata": {},
   "outputs": [],
   "source": [
    "t = extract_text(data[1], \"pdftotext_cli\")"
   ]
  },
  {
   "cell_type": "code",
   "execution_count": null,
   "id": "1277f848",
   "metadata": {},
   "outputs": [],
   "source": [
    "print(t)"
   ]
  },
  {
   "cell_type": "code",
   "execution_count": null,
   "id": "edc6d444",
   "metadata": {},
   "outputs": [],
   "source": [
    "extract_entities(t)"
   ]
  },
  {
   "cell_type": "code",
   "execution_count": null,
   "id": "1ec68ae4",
   "metadata": {},
   "outputs": [],
   "source": [
    "tt = sent_tokenize(t, language='english', preserve_line=False)"
   ]
  },
  {
   "cell_type": "code",
   "execution_count": null,
   "id": "c3830a56",
   "metadata": {},
   "outputs": [],
   "source": [
    "words = word_tokenize(t[10])\n",
    "tags = nltk.pos_tag(words)\n",
    "tree = nltk.ne_chunk(tags, binary=True)"
   ]
  },
  {
   "cell_type": "code",
   "execution_count": null,
   "id": "2830d1b9",
   "metadata": {},
   "outputs": [],
   "source": [
    "tree.draw()"
   ]
  },
  {
   "cell_type": "code",
   "execution_count": null,
   "id": "557dffe6",
   "metadata": {},
   "outputs": [],
   "source": [
    "print(nltk.ne_chunk(tt[10], binary=True))"
   ]
  },
  {
   "cell_type": "code",
   "execution_count": null,
   "id": "cef2097a",
   "metadata": {},
   "outputs": [],
   "source": []
  }
 ],
 "metadata": {
  "interpreter": {
   "hash": "5d1f7c8244089e20d2c78566a506b89fdbba8a6881d1733d9abedc360ce9f38b"
  },
  "kernelspec": {
   "display_name": "hoopoe",
   "language": "python",
   "name": "hoopoe"
  },
  "language_info": {
   "codemirror_mode": {
    "name": "ipython",
    "version": 3
   },
   "file_extension": ".py",
   "mimetype": "text/x-python",
   "name": "python",
   "nbconvert_exporter": "python",
   "pygments_lexer": "ipython3",
   "version": "3.7.11"
  }
 },
 "nbformat": 4,
 "nbformat_minor": 5
}
