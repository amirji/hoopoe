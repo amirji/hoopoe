{
 "cells": [
  {
   "cell_type": "markdown",
   "id": "dd600bed",
   "metadata": {},
   "source": [
    "### Setup"
   ]
  },
  {
   "cell_type": "code",
   "execution_count": 1,
   "id": "f09bd2e6",
   "metadata": {},
   "outputs": [],
   "source": [
    "import numpy as np\n",
    "import os\n",
    "import pdftotext\n",
    "from PyPDF2 import PdfFileReader\n",
    "import nltk\n",
    "from nltk.tokenize import sent_tokenize, word_tokenize\n",
    "import re\n",
    "import spacy\n",
    "import pandas as pd\n",
    "from py2neo import Graph\n",
    "from py2neo.bulk import create_nodes\n",
    "from neo4j import GraphDatabase\n",
    "from methods import *"
   ]
  },
  {
   "cell_type": "markdown",
   "id": "1ed48285",
   "metadata": {},
   "source": [
    "#### Initialize Graph Database"
   ]
  },
  {
   "cell_type": "code",
   "execution_count": null,
   "id": "2122210a",
   "metadata": {},
   "outputs": [],
   "source": [
    "\n",
    "graph = Graph(\"http://localhost:7474/\", auth=(\"neo4j\", \"berjis89\"))\n",
    "graph.run(\"UNWIND range(1, 3) AS n RETURN n, n * n as n_sq\")"
   ]
  },
  {
   "cell_type": "code",
   "execution_count": null,
   "id": "b17ff539",
   "metadata": {},
   "outputs": [],
   "source": []
  },
  {
   "cell_type": "code",
   "execution_count": null,
   "id": "99bf619c",
   "metadata": {},
   "outputs": [],
   "source": [
    "papers = get_data(\"Texs\")\n",
    "papers[0]"
   ]
  },
  {
   "cell_type": "code",
   "execution_count": 2,
   "id": "2ec02afd",
   "metadata": {},
   "outputs": [
    {
     "ename": "NameError",
     "evalue": "name 'papers' is not defined",
     "output_type": "error",
     "traceback": [
      "\u001b[0;31m---------------------------------------------------------------------------\u001b[0m",
      "\u001b[0;31mNameError\u001b[0m                                 Traceback (most recent call last)",
      "\u001b[0;32m/tmp/ipykernel_599071/984363320.py\u001b[0m in \u001b[0;36m<module>\u001b[0;34m\u001b[0m\n\u001b[0;32m----> 1\u001b[0;31m \u001b[0ma0\u001b[0m\u001b[0;34m,\u001b[0m\u001b[0mb0\u001b[0m \u001b[0;34m=\u001b[0m \u001b[0mextract_info\u001b[0m\u001b[0;34m(\u001b[0m\u001b[0mfolder\u001b[0m\u001b[0;34m=\u001b[0m\u001b[0mpapers\u001b[0m\u001b[0;34m[\u001b[0m\u001b[0;36m0\u001b[0m\u001b[0;34m]\u001b[0m\u001b[0;34m)\u001b[0m\u001b[0;34m\u001b[0m\u001b[0;34m\u001b[0m\u001b[0m\n\u001b[0m",
      "\u001b[0;31mNameError\u001b[0m: name 'papers' is not defined"
     ]
    }
   ],
   "source": [
    "a0,b0 = extract_info(folder=papers[0])"
   ]
  },
  {
   "cell_type": "code",
   "execution_count": null,
   "id": "01262f8f",
   "metadata": {},
   "outputs": [],
   "source": [
    "a0.keys()"
   ]
  },
  {
   "cell_type": "code",
   "execution_count": null,
   "id": "2ada40ae",
   "metadata": {},
   "outputs": [],
   "source": [
    "a0['introduction --cts']\n"
   ]
  },
  {
   "cell_type": "code",
   "execution_count": null,
   "id": "b0974409",
   "metadata": {},
   "outputs": [],
   "source": [
    "a=[]\n",
    "b = [3,67]\n",
    "a = a+b\n",
    "a"
   ]
  },
  {
   "cell_type": "code",
   "execution_count": null,
   "id": "8016194c",
   "metadata": {},
   "outputs": [],
   "source": [
    "a1,b1 = extract_info(folder=papers[3])"
   ]
  },
  {
   "cell_type": "code",
   "execution_count": null,
   "id": "5813a052",
   "metadata": {},
   "outputs": [],
   "source": [
    "a0[\"introduction --cts\"]"
   ]
  },
  {
   "cell_type": "code",
   "execution_count": null,
   "id": "d543583d",
   "metadata": {},
   "outputs": [],
   "source": [
    "a0_f = [a[0] for a in a0['authors']]\n",
    "a1_f = [a[0] for a in a1['authors']]\n"
   ]
  },
  {
   "cell_type": "code",
   "execution_count": null,
   "id": "31e97355",
   "metadata": {},
   "outputs": [],
   "source": [
    "a1.keys()"
   ]
  },
  {
   "cell_type": "code",
   "execution_count": null,
   "id": "7ba0ed6f",
   "metadata": {},
   "outputs": [],
   "source": [
    "faltted_a0 = {key:a0[key] for key in a0.keys() if key=='introduction --cts'}\n",
    "faltted_a1 = {key:a1[key] for key in a1.keys() if key=='introduction --cts'}\n"
   ]
  },
  {
   "cell_type": "code",
   "execution_count": null,
   "id": "f232603d",
   "metadata": {},
   "outputs": [],
   "source": [
    "data = [a0_f,a1_f]"
   ]
  },
  {
   "cell_type": "code",
   "execution_count": null,
   "id": "c6765dab",
   "metadata": {},
   "outputs": [],
   "source": [
    "faltted_a0.keys()"
   ]
  },
  {
   "cell_type": "code",
   "execution_count": null,
   "id": "6ab1babc",
   "metadata": {},
   "outputs": [],
   "source": [
    "create_nodes(graph, data, labels={\"Paper\"})"
   ]
  },
  {
   "cell_type": "code",
   "execution_count": null,
   "id": "14bba1a0",
   "metadata": {},
   "outputs": [],
   "source": [
    "a_df.head()"
   ]
  },
  {
   "cell_type": "code",
   "execution_count": null,
   "id": "cf55931d",
   "metadata": {},
   "outputs": [],
   "source": [
    "b"
   ]
  },
  {
   "cell_type": "code",
   "execution_count": null,
   "id": "c3ceb4ff",
   "metadata": {},
   "outputs": [],
   "source": [
    "\n",
    "paper = get_data(papers[2])\n",
    "paper\n"
   ]
  },
  {
   "cell_type": "code",
   "execution_count": null,
   "id": "4f0102d8",
   "metadata": {},
   "outputs": [],
   "source": [
    "a[\"Sections\"][\"Introduction\"]"
   ]
  },
  {
   "cell_type": "code",
   "execution_count": null,
   "id": "fe0b8277",
   "metadata": {},
   "outputs": [],
   "source": []
  },
  {
   "cell_type": "code",
   "execution_count": null,
   "id": "1f9dfc50",
   "metadata": {},
   "outputs": [],
   "source": [
    "sent = sent_tokenize(t) \n",
    "print(sent)"
   ]
  },
  {
   "cell_type": "code",
   "execution_count": null,
   "id": "4adc34e7",
   "metadata": {},
   "outputs": [],
   "source": [
    "#sent = nltk.corpus.treebank.tagged_sents()[22]\n",
    "words = word_tokenize(t)\n",
    "words_tagged = nltk.pos_tag(words)\n",
    "\n",
    "#print(nltk.ne_chunk(words_tagged, binary=False))\n",
    "tree = nltk.ne_chunk(words_tagged, binary=False)\n",
    "print(tree)\n"
   ]
  },
  {
   "cell_type": "code",
   "execution_count": null,
   "id": "da89f145",
   "metadata": {},
   "outputs": [],
   "source": [
    "IN = re.compile(r'.*\\bin\\b(?!\\b.+ing)')\n",
    "#for doc in nltk.corpus.ieer.parsed_docs('NYT_19980315'):\n",
    "\n",
    "#VAN = re.compile(words_tagged, re.VERBOSE)\n",
    "for doc in sent_tagged:\n",
    "    for rel in nltk.sem.extract_rels('ORG', 'LOC', doc, corpus='ieer', pattern = IN):\n",
    "        print(nltk.sem.rtuple(rel))"
   ]
  },
  {
   "cell_type": "code",
   "execution_count": null,
   "id": "b723a68a",
   "metadata": {},
   "outputs": [],
   "source": [
    "nltk.download('ieer')"
   ]
  },
  {
   "cell_type": "code",
   "execution_count": null,
   "id": "8d6533c2",
   "metadata": {},
   "outputs": [],
   "source": [
    "nlp = spacy.load(\"en_core_web_sm\")\n",
    "doc = nlp(\"Apple is looking at buying U.K. startup for $1 billion\")\n",
    "for token in doc:\n",
    "    print(token.text, token.pos_, token.dep_)"
   ]
  },
  {
   "cell_type": "markdown",
   "id": "d3943b35",
   "metadata": {},
   "source": [
    "### Pipline:"
   ]
  },
  {
   "cell_type": "code",
   "execution_count": null,
   "id": "5608f9f8",
   "metadata": {},
   "outputs": [],
   "source": [
    "data = get_data(\"pdfs\")"
   ]
  },
  {
   "cell_type": "code",
   "execution_count": null,
   "id": "950a776e",
   "metadata": {},
   "outputs": [],
   "source": [
    "data[0]"
   ]
  },
  {
   "cell_type": "code",
   "execution_count": null,
   "id": "ff07fbe3",
   "metadata": {},
   "outputs": [],
   "source": [
    "t = extract_text(data[1], \"pdftotext_cli\")"
   ]
  },
  {
   "cell_type": "code",
   "execution_count": null,
   "id": "1277f848",
   "metadata": {},
   "outputs": [],
   "source": [
    "print(t)"
   ]
  },
  {
   "cell_type": "code",
   "execution_count": null,
   "id": "edc6d444",
   "metadata": {},
   "outputs": [],
   "source": [
    "extract_entities(t)"
   ]
  },
  {
   "cell_type": "code",
   "execution_count": null,
   "id": "1ec68ae4",
   "metadata": {},
   "outputs": [],
   "source": [
    "tt = sent_tokenize(t, language='english', preserve_line=False)"
   ]
  },
  {
   "cell_type": "code",
   "execution_count": null,
   "id": "c3830a56",
   "metadata": {},
   "outputs": [],
   "source": [
    "words = word_tokenize(t[10])\n",
    "tags = nltk.pos_tag(words)\n",
    "tree = nltk.ne_chunk(tags, binary=True)"
   ]
  },
  {
   "cell_type": "code",
   "execution_count": null,
   "id": "2830d1b9",
   "metadata": {},
   "outputs": [],
   "source": [
    "tree.draw()"
   ]
  },
  {
   "cell_type": "code",
   "execution_count": null,
   "id": "557dffe6",
   "metadata": {},
   "outputs": [],
   "source": [
    "print(nltk.ne_chunk(tt[10], binary=True))"
   ]
  },
  {
   "cell_type": "code",
   "execution_count": null,
   "id": "cef2097a",
   "metadata": {},
   "outputs": [],
   "source": []
  }
 ],
 "metadata": {
  "interpreter": {
   "hash": "5d1f7c8244089e20d2c78566a506b89fdbba8a6881d1733d9abedc360ce9f38b"
  },
  "kernelspec": {
   "display_name": "hoopoe",
   "language": "python",
   "name": "hoopoe"
  },
  "language_info": {
   "codemirror_mode": {
    "name": "ipython",
    "version": 3
   },
   "file_extension": ".py",
   "mimetype": "text/x-python",
   "name": "python",
   "nbconvert_exporter": "python",
   "pygments_lexer": "ipython3",
   "version": "3.7.11"
  }
 },
 "nbformat": 4,
 "nbformat_minor": 5
}
