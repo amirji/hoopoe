{
 "cells": [
  {
   "cell_type": "markdown",
   "id": "dd600bed",
   "metadata": {},
   "source": [
    "### Setup"
   ]
  },
  {
   "cell_type": "code",
   "execution_count": 118,
   "id": "f09bd2e6",
   "metadata": {},
   "outputs": [],
   "source": [
    "import numpy as np\n",
    "import os\n",
    "import pdftotext\n",
    "from PyPDF2 import PdfFileReader\n",
    "import nltk\n",
    "from nltk.tokenize import sent_tokenize, word_tokenize\n",
    "import re\n",
    "import spacy\n",
    "import pandas as pd\n",
    "from py2neo import Graph\n",
    "from py2neo.bulk import create_nodes\n",
    "from neo4j import GraphDatabase\n",
    "from methods import *\n",
    "import arxiv\n",
    "import urllib.request as libreq\n",
    "import tarfile"
   ]
  },
  {
   "cell_type": "code",
   "execution_count": 38,
   "id": "619df96e",
   "metadata": {},
   "outputs": [
    {
     "name": "stdout",
     "output_type": "stream",
     "text": [
      "Generalised uncertainty relations for angular momentum and spin in quantum geometry\n",
      "Uncertainty Relations for Angular Momentum\n"
     ]
    }
   ],
   "source": []
  },
  {
   "cell_type": "code",
   "execution_count": 40,
   "id": "4af15fd5",
   "metadata": {},
   "outputs": [
    {
     "name": "stdout",
     "output_type": "stream",
     "text": [
      "http://arxiv.org/abs/1505.00049v2\n"
     ]
    }
   ],
   "source": []
  },
  {
   "cell_type": "code",
   "execution_count": null,
   "id": "183c6c1e",
   "metadata": {},
   "outputs": [],
   "source": [
    "import urllib, urllib.request\n",
    "url = 'http://export.arxiv.org/api/query?search_query=all:10.1088/0004-637X/704/1/496&start=0&max_results=1'\n",
    "data = urllib.request.urlopen(url)\n",
    "print(data.read().decode('utf-8'))"
   ]
  },
  {
   "cell_type": "markdown",
   "id": "1ed48285",
   "metadata": {},
   "source": [
    "#### Initialize Graph Database"
   ]
  },
  {
   "cell_type": "code",
   "execution_count": 119,
   "id": "9a6d5c85",
   "metadata": {},
   "outputs": [],
   "source": [
    "class Neo4jConnection:\n",
    "    \n",
    "    def __init__(self, uri, user, pwd):\n",
    "        self.__uri = uri\n",
    "        self.__user = user\n",
    "        self.__pwd = pwd\n",
    "        self.__driver = None\n",
    "        try:\n",
    "            self.__driver = GraphDatabase.driver(self.__uri, auth=(self.__user, self.__pwd))\n",
    "        except Exception as e:\n",
    "            print(\"Failed to create the driver:\", e)\n",
    "        \n",
    "    def close(self):\n",
    "        if self.__driver is not None:\n",
    "            self.__driver.close()\n",
    "        \n",
    "    def query(self, query, parameters=None, db=None):\n",
    "        assert self.__driver is not None, \"Driver not initialized!\"\n",
    "        session = None\n",
    "        response = None\n",
    "        try: \n",
    "            session = self.__driver.session(database=db) if db is not None else self.__driver.session() \n",
    "            response = list(session.run(query, parameters))\n",
    "        except Exception as e:\n",
    "            print(\"Query failed:\", e)\n",
    "        finally: \n",
    "            if session is not None:\n",
    "                session.close()\n",
    "        return response\n",
    "\n",
    "\n",
    "conn = Neo4jConnection(uri=\"bolt://localhost:7687/\", \n",
    "                       user=\"neo4j\",              \n",
    "                       pwd=\"berjis89\")"
   ]
  },
  {
   "cell_type": "code",
   "execution_count": null,
   "id": "2122210a",
   "metadata": {},
   "outputs": [],
   "source": [
    "\n",
    "graph = Graph(\"http://localhost:7474/\", auth=(\"neo4j\", \"berjis89\"))\n",
    "graph.run(\"UNWIND range(1, 3) AS n RETURN n, n * n as n_sq\")"
   ]
  },
  {
   "cell_type": "code",
   "execution_count": 142,
   "id": "3dc90a7a",
   "metadata": {},
   "outputs": [],
   "source": [
    "doi = \"10.1051/0004-6361:200810797\"\n",
    "search = arxiv.Search(\n",
    "          query = doi,\n",
    "          max_results = 10,\n",
    "          sort_by = arxiv.SortCriterion.SubmittedDate\n",
    "        )\n",
    "\n",
    "for result in search.results():\n",
    "    print(result)"
   ]
  },
  {
   "cell_type": "code",
   "execution_count": 144,
   "id": "4c47f131",
   "metadata": {},
   "outputs": [],
   "source": [
    "def extract_file(folder, file):\n",
    "\n",
    "    if file.endswith(\"tar.gz\"):\n",
    "        tar = tarfile.open(file, \"r:gz\")\n",
    "        tar.extractall(path=folder)\n",
    "        tar.close()\n",
    "    elif file.endswith(\"tar\"):\n",
    "        tar = tarfile.open(file, \"r:\")\n",
    "        tar.extractall()\n",
    "        tar.close()\n",
    "    \n",
    "    \n",
    "def get_paper(p, baseURL=\"/home/amir/Projects/papyrus/hoopoe/Texs/\"):\n",
    "    \"\"\"\n",
    "    This function download a paper from arxiv and put it to the proper place and return its unzipped folder.\n",
    "    \"\"\"\n",
    "    arxiv_id = p[\"arxiv_id\"]\n",
    "    title = p[\"title\"]\n",
    "    papers = []\n",
    "    \n",
    "    if arxiv_id != \"\":\n",
    "        search = arxiv.Search(id_list=[arxiv_id])\n",
    "        papers.append(next(search.results()))\n",
    "    elif(title != \"\"):\n",
    "        search = arxiv.Search(\n",
    "          query = \"ti:%22\"+title+\"%22\",\n",
    "          max_results = 10,\n",
    "          sort_by = arxiv.SortCriterion.SubmittedDate\n",
    "        )\n",
    "        for result in search.results():\n",
    "            if result.title == title:\n",
    "                papers.append(result)\n",
    "    else:\n",
    "        return False\n",
    "    #print(papers)\n",
    "    for paper in papers:\n",
    "        paper_id = paper.doi\n",
    "        paper_id = paper_id.replace(\"/\", \"_\")\n",
    "        filename=baseURL+paper_id+\".tar.gz\"\n",
    "        paper.download_source(filename=baseURL+paper_id+\".tar.gz\")\n",
    "        folder=baseURL+paper_id\n",
    "        extract_file(folder,filename)\n",
    "        \n",
    "    return True\n",
    "\n",
    "def get_all_papers(paper_folder):\n",
    "    \"\"\"\n",
    "    This function will get all the papers of a paper citations\n",
    "    \"\"\"\n",
    "    a0,b0 = extract_info(paper_folder)\n",
    "    \n",
    "\n",
    "def add_node(g, N, labels={\"Paper\"}, keys=[]):\n",
    "    papers = get_data(\"Texs\")\n",
    "    \n",
    "    if len(keys) == 0:\n",
    "        keys = [\"id\", \"title\", \"authors\"]\n",
    "    data = []\n",
    "    \n",
    "    for i in range(N):\n",
    "        folder_path = get_paper()\n",
    "        a, b = extract_info(folder_path)\n",
    "        data.append([a[k] for k in keys])\n",
    "    \n",
    "    \n",
    "    create_nodes(g.auto(), data, labels=labels, keys=keys)\n",
    "    x = g.nodes.match(list(labels)[0]).count()\n",
    "    print(x, \" nodes added to the graph \", g)\n",
    "    \n",
    "    return g"
   ]
  },
  {
   "cell_type": "code",
   "execution_count": 53,
   "id": "337ad479",
   "metadata": {},
   "outputs": [],
   "source": [
    "paper = {\"title\":\"Uncertainty Relations for Angular Momentum\", \"arxiv_id\":\"\"}"
   ]
  },
  {
   "cell_type": "code",
   "execution_count": 124,
   "id": "7de8ef14",
   "metadata": {},
   "outputs": [
    {
     "data": {
      "text/plain": [
       "'10.1088_1367-2630_17_9_093046'"
      ]
     },
     "execution_count": 124,
     "metadata": {},
     "output_type": "execute_result"
    }
   ],
   "source": [
    "get_paper(paper)"
   ]
  },
  {
   "cell_type": "code",
   "execution_count": 145,
   "id": "99bf619c",
   "metadata": {},
   "outputs": [
    {
     "data": {
      "text/plain": [
       "['/home/amir/Projects/papyrus/hoopoe/Texs/1511_03498',\n",
       " '/home/amir/Projects/papyrus/hoopoe/Texs/2112_13970',\n",
       " '/home/amir/Projects/papyrus/hoopoe/Texs/2112',\n",
       " '/home/amir/Projects/papyrus/hoopoe/Texs/2112_14214']"
      ]
     },
     "execution_count": 145,
     "metadata": {},
     "output_type": "execute_result"
    }
   ],
   "source": [
    "papers = get_data(\"Texs\")\n",
    "papers"
   ]
  },
  {
   "cell_type": "code",
   "execution_count": 147,
   "id": "2ec02afd",
   "metadata": {},
   "outputs": [
    {
     "ename": "IndexError",
     "evalue": "list index out of range",
     "output_type": "error",
     "traceback": [
      "\u001b[0;31m---------------------------------------------------------------------------\u001b[0m",
      "\u001b[0;31mIndexError\u001b[0m                                Traceback (most recent call last)",
      "\u001b[0;32m/tmp/ipykernel_1676112/160247062.py\u001b[0m in \u001b[0;36m<module>\u001b[0;34m\u001b[0m\n\u001b[0;32m----> 1\u001b[0;31m \u001b[0ma0\u001b[0m\u001b[0;34m,\u001b[0m\u001b[0mb0\u001b[0m \u001b[0;34m=\u001b[0m \u001b[0mextract_info\u001b[0m\u001b[0;34m(\u001b[0m\u001b[0mfolder\u001b[0m\u001b[0;34m=\u001b[0m\u001b[0mpapers\u001b[0m\u001b[0;34m[\u001b[0m\u001b[0;36m2\u001b[0m\u001b[0;34m]\u001b[0m\u001b[0;34m)\u001b[0m\u001b[0;34m\u001b[0m\u001b[0;34m\u001b[0m\u001b[0m\n\u001b[0m",
      "\u001b[0;32m~/Projects/papyrus/hoopoe/methods.py\u001b[0m in \u001b[0;36mextract_info\u001b[0;34m(folder, source)\u001b[0m\n\u001b[1;32m    195\u001b[0m         \u001b[0mtemp\u001b[0m \u001b[0;34m=\u001b[0m  \u001b[0mre\u001b[0m\u001b[0;34m.\u001b[0m\u001b[0mfindall\u001b[0m\u001b[0;34m(\u001b[0m\u001b[0msection_grammer\u001b[0m\u001b[0;34m,\u001b[0m \u001b[0mtext\u001b[0m\u001b[0;34m,\u001b[0m \u001b[0mre\u001b[0m\u001b[0;34m.\u001b[0m\u001b[0mDOTALL\u001b[0m\u001b[0;34m)\u001b[0m\u001b[0;34m\u001b[0m\u001b[0;34m\u001b[0m\u001b[0m\n\u001b[1;32m    196\u001b[0m         \u001b[0msections_text\u001b[0m\u001b[0;34m.\u001b[0m\u001b[0mappend\u001b[0m\u001b[0;34m(\u001b[0m\u001b[0mtemp\u001b[0m\u001b[0;34m)\u001b[0m\u001b[0;34m\u001b[0m\u001b[0;34m\u001b[0m\u001b[0m\n\u001b[0;32m--> 197\u001b[0;31m         \u001b[0mSections\u001b[0m\u001b[0;34m[\u001b[0m\u001b[0ms_t\u001b[0m\u001b[0;34m]\u001b[0m \u001b[0;34m=\u001b[0m \u001b[0mMyDict\u001b[0m\u001b[0;34m(\u001b[0m\u001b[0;34m{\u001b[0m\u001b[0;34m\"text\"\u001b[0m\u001b[0;34m:\u001b[0m \u001b[0mtemp\u001b[0m\u001b[0;34m[\u001b[0m\u001b[0;36m0\u001b[0m\u001b[0;34m]\u001b[0m\u001b[0;34m}\u001b[0m\u001b[0;34m)\u001b[0m\u001b[0;34m\u001b[0m\u001b[0;34m\u001b[0m\u001b[0m\n\u001b[0m\u001b[1;32m    198\u001b[0m         \u001b[0;31m# Same data saved as flatten version to use in neo4j, later we need to disscuss\u001b[0m\u001b[0;34m\u001b[0m\u001b[0;34m\u001b[0m\u001b[0;34m\u001b[0m\u001b[0m\n\u001b[1;32m    199\u001b[0m         \u001b[0minfo\u001b[0m\u001b[0;34m[\u001b[0m\u001b[0ms_t\u001b[0m \u001b[0;34m+\u001b[0m \u001b[0;34m\" --text\"\u001b[0m\u001b[0;34m]\u001b[0m\u001b[0;34m=\u001b[0m\u001b[0mtemp\u001b[0m\u001b[0;34m[\u001b[0m\u001b[0;36m0\u001b[0m\u001b[0;34m]\u001b[0m\u001b[0;34m\u001b[0m\u001b[0;34m\u001b[0m\u001b[0m\n",
      "\u001b[0;31mIndexError\u001b[0m: list index out of range"
     ]
    }
   ],
   "source": [
    "a0,b0 = extract_info(folder=papers[2])"
   ]
  },
  {
   "cell_type": "code",
   "execution_count": 139,
   "id": "6bc9f76e",
   "metadata": {},
   "outputs": [
    {
     "data": {
      "text/plain": [
       "[['Espaillat14', [], ['10.2458/azu_uapress_9780816531240-ch022']],\n",
       " ['Andrews11', [], ['10.1088/2041-8205/742/1/L5']],\n",
       " ['Pietu05', [], ['10.1051/0004-6361:20042050']],\n",
       " ['Hughes07', [], ['10.1086/518885']],\n",
       " ['Casassus13', [], ['10.1038/nature11769']],\n",
       " ['Avenhaus14', [], ['10.1088/0004-637X/781/2/87']],\n",
       " ['Espaillat14', [], ['10.2458/azu_uapress_9780816531240-ch022']],\n",
       " ['Carmona14', [], ['10.1051/0004-6361/201322534']],\n",
       " ['Bruderer14', [], ['10.1051/0004-6361/201322857']],\n",
       " ['vanderMarel2015', [], ['10.1051/0004-6361/201525658']],\n",
       " ['Birnstiel2012', [], ['10.1051/0004-6361/201219262']],\n",
       " ['AlexanderPP6', [], ['10.2458/azu_uapress_9780816531240-ch021']],\n",
       " ['Owen11', [], ['10.1111/j.1365-2966.2010.17818.x']],\n",
       " ['Rosenfeld14', [], ['10.1088/0004-637X/782/2/62']],\n",
       " ['Rosenfeld14', [], ['10.1088/0004-637X/782/2/62']],\n",
       " ['crida06', [], ['10.1016/j.icarus.2005.10.007']],\n",
       " ['pm04', [], ['10.1051/0004-6361:200400053']],\n",
       " ['Fouchet07', [], ['10.1051/0004-6361:20077586']],\n",
       " ['Zhu12', [], ['10.1088/0004-637X/755/1/6']],\n",
       " ['Pinilla12', [], ['10.1051/0004-6361/201118204']],\n",
       " ['JohansenPP6', [], ['10.2458/azu_uapress_9780816531240-ch024']],\n",
       " ['Zhu12', [], ['10.1088/0004-637X/755/1/6']],\n",
       " ['Zhu14', [], ['10.1088/0004-637X/785/2/122']],\n",
       " ['Zhu11', [], ['10.1088/0004-637X/729/1/47']],\n",
       " ['Casassus13', [], ['10.1038/nature11769']],\n",
       " ['Fukagawa14', [], ['10.1093/pasj/65.6.L14']],\n",
       " ['vanderMarel13', [], ['10.1126/science.1236770']],\n",
       " ['Tang12', [], ['10.1051/0004-6361/201219414']],\n",
       " ['Andrews11all', [], ['10.1088/0004-637X/732/1/42']],\n",
       " ['Perez14', [], ['10.1088/2041-8205/783/1/L13']],\n",
       " ['Isella13', [], ['10.1088/0004-637X/775/1/30']],\n",
       " ['Brown09', [], ['10.1088/0004-637X/704/1/496']],\n",
       " ['Perez14', [], ['10.1088/2041-8205/783/1/L13']],\n",
       " ['vanDishoeck2015', [], []],\n",
       " ['lovelace99', [], ['10.1086/306900']],\n",
       " ['PP84', [], []],\n",
       " ['Bae15', [], ['10.1088/0004-637X/805/1/15']],\n",
       " ['Lyra09', [], ['10.1051/0004-6361:200810797']],\n",
       " ['LinMK12', [], ['10.1111/j.1365-2966.2012.21955.x']],\n",
       " ['VT06', [], ['10.1051/0004-6361:200500226']],\n",
       " ['Regaly12', [], ['10.1111/j.1365-2966.2011.19834.x']],\n",
       " ['Faure14', [], ['10.1051/0004-6361/201321911']],\n",
       " ['Lyra15', [], ['10.1051/0004-6361/201424919']],\n",
       " ['Flock15', [], ['10.1051/0004-6361/201424693']],\n",
       " ['ZhuStone14', [], ['10.1088/0004-637X/795/1/53']],\n",
       " ['Lesur14', [], ['10.1051/0004-6361/201423660']],\n",
       " ['Bai15', [], ['10.1088/0004-637X/798/2/84']],\n",
       " ['Gressel15', [], ['10.1088/0004-637X/801/2/84']]]"
      ]
     },
     "execution_count": 139,
     "metadata": {},
     "output_type": "execute_result"
    }
   ],
   "source": [
    "a0[\"introduction --cts\"]"
   ]
  },
  {
   "cell_type": "code",
   "execution_count": null,
   "id": "7bc7e85c",
   "metadata": {},
   "outputs": [],
   "source": [
    "a0.keys()"
   ]
  },
  {
   "cell_type": "code",
   "execution_count": null,
   "id": "3a717213",
   "metadata": {},
   "outputs": [],
   "source": [
    "a0['results --cts']"
   ]
  },
  {
   "cell_type": "code",
   "execution_count": null,
   "id": "8016194c",
   "metadata": {},
   "outputs": [],
   "source": [
    "a1,b1 = extract_info(folder=papers[3])"
   ]
  },
  {
   "cell_type": "code",
   "execution_count": null,
   "id": "bbeaa7b1",
   "metadata": {},
   "outputs": [],
   "source": [
    "a0[\"introduction --cts\"]"
   ]
  },
  {
   "cell_type": "code",
   "execution_count": null,
   "id": "4a322be3",
   "metadata": {},
   "outputs": [],
   "source": [
    "a0_f = [a[0] for a in a0['authors']]\n",
    "a1_f = [a[0] for a in a1['authors']]"
   ]
  },
  {
   "cell_type": "code",
   "execution_count": null,
   "id": "7ba0ed6f",
   "metadata": {},
   "outputs": [],
   "source": [
    "a0_f = {key:a0[key] for key in a0.keys() if key!='sections'}\n",
    "a1_f = {key:a1[key] for key in a1.keys() if key!='sections'}\n"
   ]
  },
  {
   "cell_type": "code",
   "execution_count": null,
   "id": "78025036",
   "metadata": {},
   "outputs": [],
   "source": [
    "a0_f.keys() "
   ]
  },
  {
   "cell_type": "code",
   "execution_count": null,
   "id": "61907421",
   "metadata": {},
   "outputs": [],
   "source": [
    "data=a0.keys()"
   ]
  },
  {
   "cell_type": "code",
   "execution_count": null,
   "id": "88cb7748",
   "metadata": {},
   "outputs": [],
   "source": []
  },
  {
   "cell_type": "code",
   "execution_count": null,
   "id": "25cbafa2",
   "metadata": {},
   "outputs": [],
   "source": [
    "a0_f['results --cts']"
   ]
  },
  {
   "cell_type": "code",
   "execution_count": null,
   "id": "e05aca6c",
   "metadata": {},
   "outputs": [],
   "source": [
    "df = pd.DataFrame(columns=[\"doi\", \"title\",\"url\", 'authors', 'abstract', 'citations' ])"
   ]
  },
  {
   "cell_type": "code",
   "execution_count": null,
   "id": "8255cd32",
   "metadata": {},
   "outputs": [],
   "source": [
    "df"
   ]
  },
  {
   "cell_type": "code",
   "execution_count": null,
   "id": "1326e17a",
   "metadata": {},
   "outputs": [],
   "source": [
    "conn.query('CREATE CONSTRAINT papers IF NOT EXISTS ON (p:Paper) ASSERT p.doi IS UNIQUE')"
   ]
  },
  {
   "cell_type": "code",
   "execution_count": null,
   "id": "6ab1babc",
   "metadata": {},
   "outputs": [],
   "source": [
    "create_nodes(graph, data, labels={\"Paper\"})"
   ]
  },
  {
   "cell_type": "code",
   "execution_count": null,
   "id": "14bba1a0",
   "metadata": {},
   "outputs": [],
   "source": [
    "a_df.head()"
   ]
  },
  {
   "cell_type": "code",
   "execution_count": null,
   "id": "cf55931d",
   "metadata": {},
   "outputs": [],
   "source": [
    "b"
   ]
  },
  {
   "cell_type": "code",
   "execution_count": null,
   "id": "c3ceb4ff",
   "metadata": {},
   "outputs": [],
   "source": [
    "paper = get_data(papers[2])\n",
    "paper"
   ]
  },
  {
   "cell_type": "code",
   "execution_count": null,
   "id": "4f0102d8",
   "metadata": {},
   "outputs": [],
   "source": [
    "a[\"Sections\"][\"Introduction\"]"
   ]
  },
  {
   "cell_type": "code",
   "execution_count": null,
   "id": "fe0b8277",
   "metadata": {},
   "outputs": [],
   "source": []
  },
  {
   "cell_type": "code",
   "execution_count": null,
   "id": "1f9dfc50",
   "metadata": {},
   "outputs": [],
   "source": [
    "sent = sent_tokenize(t) \n",
    "print(sent)"
   ]
  },
  {
   "cell_type": "code",
   "execution_count": null,
   "id": "4adc34e7",
   "metadata": {},
   "outputs": [],
   "source": [
    "#sent = nltk.corpus.treebank.tagged_sents()[22]\n",
    "words = word_tokenize(t)\n",
    "words_tagged = nltk.pos_tag(words)\n",
    "\n",
    "#print(nltk.ne_chunk(words_tagged, binary=False))\n",
    "tree = nltk.ne_chunk(words_tagged, binary=False)\n",
    "print(tree)\n"
   ]
  },
  {
   "cell_type": "code",
   "execution_count": null,
   "id": "da89f145",
   "metadata": {},
   "outputs": [],
   "source": [
    "IN = re.compile(r'.*\\bin\\b(?!\\b.+ing)')\n",
    "#for doc in nltk.corpus.ieer.parsed_docs('NYT_19980315'):\n",
    "\n",
    "#VAN = re.compile(words_tagged, re.VERBOSE)\n",
    "for doc in sent_tagged:\n",
    "    for rel in nltk.sem.extract_rels('ORG', 'LOC', doc, corpus='ieer', pattern = IN):\n",
    "        print(nltk.sem.rtuple(rel))"
   ]
  },
  {
   "cell_type": "code",
   "execution_count": null,
   "id": "b723a68a",
   "metadata": {},
   "outputs": [],
   "source": [
    "nltk.download('ieer')"
   ]
  },
  {
   "cell_type": "code",
   "execution_count": null,
   "id": "8d6533c2",
   "metadata": {},
   "outputs": [],
   "source": [
    "nlp = spacy.load(\"en_core_web_sm\")\n",
    "doc = nlp(\"Apple is looking at buying U.K. startup for $1 billion\")\n",
    "for token in doc:\n",
    "    print(token.text, token.pos_, token.dep_)"
   ]
  },
  {
   "cell_type": "markdown",
   "id": "d3943b35",
   "metadata": {},
   "source": [
    "### Pipline:"
   ]
  },
  {
   "cell_type": "code",
   "execution_count": null,
   "id": "5608f9f8",
   "metadata": {},
   "outputs": [],
   "source": [
    "data = get_data(\"pdfs\")"
   ]
  },
  {
   "cell_type": "code",
   "execution_count": null,
   "id": "950a776e",
   "metadata": {},
   "outputs": [],
   "source": [
    "data[0]"
   ]
  },
  {
   "cell_type": "code",
   "execution_count": null,
   "id": "ff07fbe3",
   "metadata": {},
   "outputs": [],
   "source": [
    "t = extract_text(data[1], \"pdftotext_cli\")"
   ]
  },
  {
   "cell_type": "code",
   "execution_count": null,
   "id": "1277f848",
   "metadata": {},
   "outputs": [],
   "source": [
    "print(t)"
   ]
  },
  {
   "cell_type": "code",
   "execution_count": null,
   "id": "edc6d444",
   "metadata": {},
   "outputs": [],
   "source": [
    "extract_entities(t)"
   ]
  },
  {
   "cell_type": "code",
   "execution_count": null,
   "id": "1ec68ae4",
   "metadata": {},
   "outputs": [],
   "source": [
    "tt = sent_tokenize(t, language='english', preserve_line=False)"
   ]
  },
  {
   "cell_type": "code",
   "execution_count": null,
   "id": "c3830a56",
   "metadata": {},
   "outputs": [],
   "source": [
    "words = word_tokenize(t[10])\n",
    "tags = nltk.pos_tag(words)\n",
    "tree = nltk.ne_chunk(tags, binary=True)"
   ]
  },
  {
   "cell_type": "code",
   "execution_count": null,
   "id": "2830d1b9",
   "metadata": {},
   "outputs": [],
   "source": [
    "tree.draw()"
   ]
  },
  {
   "cell_type": "code",
   "execution_count": null,
   "id": "557dffe6",
   "metadata": {},
   "outputs": [],
   "source": [
    "print(nltk.ne_chunk(tt[10], binary=True))"
   ]
  },
  {
   "cell_type": "code",
   "execution_count": null,
   "id": "cef2097a",
   "metadata": {},
   "outputs": [],
   "source": []
  }
 ],
 "metadata": {
  "interpreter": {
   "hash": "5d1f7c8244089e20d2c78566a506b89fdbba8a6881d1733d9abedc360ce9f38b"
  },
  "kernelspec": {
   "display_name": "hoopoe",
   "language": "python",
   "name": "hoopoe"
  },
  "language_info": {
   "codemirror_mode": {
    "name": "ipython",
    "version": 3
   },
   "file_extension": ".py",
   "mimetype": "text/x-python",
   "name": "python",
   "nbconvert_exporter": "python",
   "pygments_lexer": "ipython3",
   "version": "3.7.11"
  }
 },
 "nbformat": 4,
 "nbformat_minor": 5
}
