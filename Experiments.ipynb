{
 "cells": [
  {
   "cell_type": "markdown",
   "id": "dd600bed",
   "metadata": {},
   "source": [
    "### Setup"
   ]
  },
  {
   "cell_type": "code",
   "execution_count": 22,
   "id": "f09bd2e6",
   "metadata": {},
   "outputs": [],
   "source": [
    "import numpy as np\n",
    "import os\n",
    "import pdftotext\n",
    "from PyPDF2 import PdfFileReader\n",
    "import nltk\n",
    "from nltk.tokenize import sent_tokenize, word_tokenize"
   ]
  },
  {
   "cell_type": "code",
   "execution_count": 24,
   "id": "1cde8ba2",
   "metadata": {},
   "outputs": [],
   "source": [
    "def get_data(folder_name):\n",
    "    \"\"\"\n",
    "    This function assumes that the folder \"folder_name\" is stored inside the the notebooks folder.\n",
    "    Params:\n",
    "    folder_name: string\n",
    "    Returns: the paths to the data files in the given folder as a list.\n",
    "    \"\"\"\n",
    "    arr = os.listdir(folder_name)\n",
    "    return [os.path.join(os.getcwd(),folder_name, a) for a in arr]\n",
    "\n",
    "\n",
    "def pdftotext_wrapper(input_file, options=None, output_file=None):\n",
    "    \"\"\"\n",
    "    This function wraps the pdftotext command line tool.\n",
    "    Params:\n",
    "    input_file: string of path to the input pdf file.\n",
    "    output_file: string of path to the output text file.\n",
    "    options: string\n",
    "    Returns: the text as a string.\n",
    "    \"\"\"\n",
    "    if options is None:\n",
    "        options = \"\"\n",
    "\n",
    "    if output_file is None:\n",
    "        output_file = \"\"\n",
    "\n",
    "    check = os.popen(\"pdftotext \" + options + \" \" + input_file + \" \" + output_file).read()\n",
    "    if check == \"\":\n",
    "        return \"Success\"\n",
    "\n",
    "\n",
    "def extract_text(path, method):\n",
    "    \"\"\"\n",
    "    This function extracts the text from a pdf file.\n",
    "    Params:\n",
    "    path: string\n",
    "    method: string\n",
    "    Returns: the text as a string.\n",
    "    \"\"\"\n",
    "    if method == \"pdftotext_cli\":\n",
    "        file_name = path.replace(os.path.dirname(data[0])+\"/\", \"\").replace(\".pdf\", \"\")\n",
    "        output_dir = os.path.join(os.getcwd(), \"texts\")\n",
    "        output_file = os.path.join(output_dir, file_name + \".txt\")\n",
    "        pdftotext_wrapper(data[0], \"-raw\", output_file) \n",
    "        with open(output_file, \"r\") as f:\n",
    "            #return f.read()\n",
    "            return f.read().replace(\"\\n\", \" \")\n",
    "            #return f.readlines()\n",
    "\n",
    "    if method == \"pdftotext_python\":\n",
    "        with open(path, \"rb\") as f:\n",
    "            return pdftotext.PDF(f)\n",
    "\n",
    "    if method == \"pypdf2\":\n",
    "        text = []\n",
    "        with open(path, \"rb\") as f:\n",
    "            pdf = PdfFileReader(f)\n",
    "            text = [pdf.getPage(i).extractText() for i in range(pdf.numPages)]\n",
    "            return text\n"
   ]
  },
  {
   "cell_type": "markdown",
   "id": "d3943b35",
   "metadata": {},
   "source": [
    "### Pipline:"
   ]
  },
  {
   "cell_type": "code",
   "execution_count": 9,
   "id": "5608f9f8",
   "metadata": {},
   "outputs": [],
   "source": [
    "data = get_data(\"pdfs\")"
   ]
  },
  {
   "cell_type": "code",
   "execution_count": 25,
   "id": "ff07fbe3",
   "metadata": {},
   "outputs": [],
   "source": [
    "t = extract_text(data[0], \"pdftotext_cli\")"
   ]
  },
  {
   "cell_type": "code",
   "execution_count": 26,
   "id": "1ec68ae4",
   "metadata": {},
   "outputs": [],
   "source": [
    "tt = sent_tokenize(t)"
   ]
  },
  {
   "cell_type": "code",
   "execution_count": 28,
   "id": "557dffe6",
   "metadata": {},
   "outputs": [
    {
     "data": {
      "text/plain": [
       "'For example, next-neighbor interactions in cou-\\npled systems are often by far dominant.'"
      ]
     },
     "execution_count": 28,
     "metadata": {},
     "output_type": "execute_result"
    }
   ],
   "source": [
    "tt[10]"
   ]
  }
 ],
 "metadata": {
  "kernelspec": {
   "display_name": "hoopoe",
   "language": "python",
   "name": "hoopoe"
  },
  "language_info": {
   "codemirror_mode": {
    "name": "ipython",
    "version": 3
   },
   "file_extension": ".py",
   "mimetype": "text/x-python",
   "name": "python",
   "nbconvert_exporter": "python",
   "pygments_lexer": "ipython3",
   "version": "3.7.11"
  }
 },
 "nbformat": 4,
 "nbformat_minor": 5
}
